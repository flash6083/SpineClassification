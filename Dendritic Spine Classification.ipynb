{
  "nbformat": 4,
  "nbformat_minor": 0,
  "metadata": {
    "colab": {
      "provenance": [],
      "gpuType": "T4"
    },
    "kernelspec": {
      "name": "python3",
      "display_name": "Python 3"
    },
    "language_info": {
      "name": "python"
    },
    "accelerator": "GPU"
  },
  "cells": [
    {
      "cell_type": "markdown",
      "source": [
        "# **Importing necessary libraries for EDA and building the CNN model for multi-class image classification**"
      ],
      "metadata": {
        "id": "xDHpsVWMiA8r"
      }
    },
    {
      "cell_type": "code",
      "execution_count": null,
      "metadata": {
        "id": "WH3hP0b1hrpk"
      },
      "outputs": [],
      "source": [
        "import os\n",
        "import tensorflow as tf\n",
        "import matplotlib.pyplot as plt\n",
        "import matplotlib.image as mpimg\n",
        "import numpy as np\n",
        "import pandas as pd\n",
        "import seaborn as sns\n",
        "from keras.models import load_model"
      ]
    },
    {
      "cell_type": "code",
      "source": [
        "print(tf.__version__)"
      ],
      "metadata": {
        "colab": {
          "base_uri": "https://localhost:8080/"
        },
        "id": "DMifzX-KhPyc",
        "outputId": "8327338a-cd7b-4656-dbbe-ab6fae9fbd96"
      },
      "execution_count": null,
      "outputs": [
        {
          "output_type": "stream",
          "name": "stdout",
          "text": [
            "2.14.0\n"
          ]
        }
      ]
    },
    {
      "cell_type": "code",
      "source": [
        "from google.colab import drive\n",
        "drive.mount('/content/gdrive')"
      ],
      "metadata": {
        "id": "nMXG38gZi7iB",
        "colab": {
          "base_uri": "https://localhost:8080/"
        },
        "outputId": "fb7a2043-f3aa-4ed2-993f-d5e879719e08"
      },
      "execution_count": null,
      "outputs": [
        {
          "output_type": "stream",
          "name": "stdout",
          "text": [
            "Mounted at /content/gdrive\n"
          ]
        }
      ]
    },
    {
      "cell_type": "code",
      "source": [
        "%cd /content/gdrive/MyDrive/Colab Notebooks/Dataset_spines"
      ],
      "metadata": {
        "colab": {
          "base_uri": "https://localhost:8080/"
        },
        "id": "_typjy6hjDR4",
        "outputId": "730701c4-8241-434d-9a8d-ec2a95076da4"
      },
      "execution_count": null,
      "outputs": [
        {
          "output_type": "stream",
          "name": "stdout",
          "text": [
            "/content/gdrive/MyDrive/Colab Notebooks/Dataset_spines\n"
          ]
        }
      ]
    },
    {
      "cell_type": "code",
      "source": [
        "!ls"
      ],
      "metadata": {
        "colab": {
          "base_uri": "https://localhost:8080/"
        },
        "id": "5SbxanEkjdYS",
        "outputId": "cdffda6b-8fa6-4552-d9ab-afdd95046d77"
      },
      "execution_count": null,
      "outputs": [
        {
          "output_type": "stream",
          "name": "stdout",
          "text": [
            "filopodia  mushroom  stubby  thin\n"
          ]
        }
      ]
    },
    {
      "cell_type": "code",
      "source": [
        "np.random.seed(101)"
      ],
      "metadata": {
        "id": "NmmjLc5NjhZh"
      },
      "execution_count": null,
      "outputs": []
    },
    {
      "cell_type": "markdown",
      "source": [
        "#### **Installing split-folders package (one-time) to create train and val folders for the respective classes**"
      ],
      "metadata": {
        "id": "Lj0li2_aibw7"
      }
    },
    {
      "cell_type": "code",
      "source": [
        "# !pip install split-folders"
      ],
      "metadata": {
        "id": "fZBlwNeFiYXW"
      },
      "execution_count": null,
      "outputs": []
    },
    {
      "cell_type": "code",
      "source": [
        "# input_folder_path = '/content/gdrive/MyDrive/Colab Notebooks/Dataset_spines'\n",
        "# output_folder_path = '/content/gdrive/MyDrive/Colab Notebooks/Spine_Dataset'"
      ],
      "metadata": {
        "id": "gtyQcf-vid47"
      },
      "execution_count": null,
      "outputs": []
    },
    {
      "cell_type": "markdown",
      "source": [
        "#### **Creating the train and val set from the input data**"
      ],
      "metadata": {
        "id": "sVtWzOFUi2li"
      }
    },
    {
      "cell_type": "code",
      "source": [
        "# import splitfolders\n",
        "\n",
        "# splitfolders.ratio(input_folder_path, output=output_folder_path,\n",
        "#     seed=1337, ratio=(.8, .2), group_prefix=None, move=False)"
      ],
      "metadata": {
        "id": "rlVcOJWdiyrd"
      },
      "execution_count": null,
      "outputs": []
    },
    {
      "cell_type": "code",
      "source": [
        "%cd '/content/gdrive/MyDrive/Colab Notebooks/Spine_Dataset'"
      ],
      "metadata": {
        "colab": {
          "base_uri": "https://localhost:8080/"
        },
        "id": "3JLJbj6-jO1W",
        "outputId": "744c1a26-1eee-4430-a571-5a2d0c6063b8"
      },
      "execution_count": null,
      "outputs": [
        {
          "output_type": "stream",
          "name": "stdout",
          "text": [
            "/content/gdrive/MyDrive/Colab Notebooks/Spine_Dataset\n"
          ]
        }
      ]
    },
    {
      "cell_type": "code",
      "source": [
        "!pwd"
      ],
      "metadata": {
        "colab": {
          "base_uri": "https://localhost:8080/"
        },
        "id": "idQex8WLjwiN",
        "outputId": "76656d03-94cb-48a6-b7e3-0a732c3e524a"
      },
      "execution_count": null,
      "outputs": [
        {
          "output_type": "stream",
          "name": "stdout",
          "text": [
            "/content/gdrive/MyDrive/Colab Notebooks/Spine_Dataset\n"
          ]
        }
      ]
    },
    {
      "cell_type": "code",
      "source": [
        "!ls"
      ],
      "metadata": {
        "colab": {
          "base_uri": "https://localhost:8080/"
        },
        "id": "WVFqRkgJjztB",
        "outputId": "9f8ec319-d3cb-42be-97ba-0cd0692b2212"
      },
      "execution_count": null,
      "outputs": [
        {
          "output_type": "stream",
          "name": "stdout",
          "text": [
            "3.png  filopodiaimage004.png  train  val\n"
          ]
        }
      ]
    },
    {
      "cell_type": "markdown",
      "source": [
        "### **Exploring the no. of directories, no. of classes and no. of images per class**"
      ],
      "metadata": {
        "id": "DxTne7Fok1o4"
      }
    },
    {
      "cell_type": "code",
      "source": [
        "for dirpath, dirnames, filenames in os.walk('/content/gdrive/MyDrive/Colab Notebooks/Spine_Dataset'):\n",
        "  print(f'There are {len(dirnames)} directories and {len(filenames)} images in {len(dirpath)}.')"
      ],
      "metadata": {
        "colab": {
          "base_uri": "https://localhost:8080/"
        },
        "id": "bqhX0N2jkzx6",
        "outputId": "24351801-4a2a-4400-fe11-72a33efc10c2"
      },
      "execution_count": null,
      "outputs": [
        {
          "output_type": "stream",
          "name": "stdout",
          "text": [
            "There are 2 directories and 2 images in 53.\n",
            "There are 4 directories and 0 images in 59.\n",
            "There are 0 directories and 90 images in 66.\n",
            "There are 0 directories and 40 images in 69.\n",
            "There are 0 directories and 229 images in 68.\n",
            "There are 0 directories and 84 images in 64.\n",
            "There are 4 directories and 0 images in 57.\n",
            "There are 0 directories and 23 images in 64.\n",
            "There are 0 directories and 10 images in 67.\n",
            "There are 0 directories and 58 images in 66.\n",
            "There are 0 directories and 21 images in 62.\n"
          ]
        }
      ]
    },
    {
      "cell_type": "markdown",
      "source": [
        "### **Getting the class names programatically**"
      ],
      "metadata": {
        "id": "_cITJ3NUmUfw"
      }
    },
    {
      "cell_type": "code",
      "source": [
        "import pathlib\n",
        "data_dir = pathlib.Path('/content/gdrive/MyDrive/Colab Notebooks/Spine_Dataset/train')\n",
        "\n",
        "\n",
        "#Create a list of class names from the subdirectory\n",
        "class_names = np.array(sorted([item.name for item in data_dir.glob('*')]))\n",
        "print(class_names)"
      ],
      "metadata": {
        "colab": {
          "base_uri": "https://localhost:8080/"
        },
        "id": "UTN3NEBemeDI",
        "outputId": "5a7dcd71-4c3c-44ae-e7f3-38503e7431e1"
      },
      "execution_count": null,
      "outputs": [
        {
          "output_type": "stream",
          "name": "stdout",
          "text": [
            "['filopodia' 'mushroom' 'stubby' 'thin']\n"
          ]
        }
      ]
    },
    {
      "cell_type": "markdown",
      "source": [
        "## **Visualizing the Images**"
      ],
      "metadata": {
        "id": "Z3e0GB-nm5MI"
      }
    },
    {
      "cell_type": "code",
      "source": [
        "## Using helper function to view random images\n",
        "\n",
        "import random\n",
        "\n",
        "def view_random_image(target_dir, target_class):\n",
        "\n",
        "  #Setting up the target directory(we'll view images from here)\n",
        "  target_folder = target_dir + target_class\n",
        "\n",
        "  # Getting a random image path\n",
        "  random_image = random.sample(os.listdir(target_folder), 1)\n",
        "  print(random_image)\n",
        "\n",
        "  # Reading image and displaying using matplotlib\n",
        "  img = mpimg.imread(target_folder + \"/\" + random_image[0])\n",
        "  plt.imshow(img, cmap='gray')\n",
        "  plt.title(target_class)\n",
        "  plt.axis('off')\n",
        "\n",
        "  print(f'Image shape: {img.shape}') # Showing the size of image\n",
        "\n",
        "  return img"
      ],
      "metadata": {
        "id": "DZhmEOXom8ou"
      },
      "execution_count": null,
      "outputs": []
    },
    {
      "cell_type": "code",
      "source": [
        "# Viewing random Filopodia spine image\n",
        "\n",
        "target_directory_for_images = '/content/gdrive/MyDrive/Colab Notebooks/Spine_Dataset/train/'\n",
        "target_class_of_image = 'filopodia'\n",
        "\n",
        "img_class1 = view_random_image(target_dir = target_directory_for_images,\n",
        "                        target_class = target_class_of_image)"
      ],
      "metadata": {
        "colab": {
          "base_uri": "https://localhost:8080/",
          "height": 385
        },
        "id": "xREPmBAgnCpI",
        "outputId": "38368cf3-c454-48c8-cc95-bef64107af66"
      },
      "execution_count": null,
      "outputs": [
        {
          "output_type": "stream",
          "name": "stdout",
          "text": [
            "['filopodiaimage029.png']\n",
            "Image shape: (692, 1177, 4)\n"
          ]
        },
        {
          "output_type": "display_data",
          "data": {
            "text/plain": [
              "<Figure size 640x480 with 1 Axes>"
            ],
            "image/png": "[encoded data removed]"
          },
          "metadata": {}
        }
      ]
    },
    {
      "cell_type": "code",
      "source": [
        "# Viewing random Mushroom spine image\n",
        "\n",
        "target_directory_for_images = '/content/gdrive/MyDrive/Colab Notebooks/Spine_Dataset/train/'\n",
        "target_class_of_image = 'mushroom'\n",
        "\n",
        "img_class2 = view_random_image(target_dir = target_directory_for_images,\n",
        "                        target_class = target_class_of_image)"
      ],
      "metadata": {
        "colab": {
          "base_uri": "https://localhost:8080/",
          "height": 463
        },
        "id": "u1__3KcOn1PP",
        "outputId": "0f321828-42e6-4ebe-b338-0960558345e0"
      },
      "execution_count": null,
      "outputs": [
        {
          "output_type": "stream",
          "name": "stdout",
          "text": [
            "['52.png']\n",
            "Image shape: (250, 250)\n"
          ]
        },
        {
          "output_type": "display_data",
          "data": {
            "text/plain": [
              "<Figure size 640x480 with 1 Axes>"
            ],
            "image/png": "[encoded data removed]"
          },
          "metadata": {}
        }
      ]
    },
    {
      "cell_type": "code",
      "source": [
        "# Viewing random Stubby spine image\n",
        "\n",
        "target_directory_for_images = '/content/gdrive/MyDrive/Colab Notebooks/Spine_Dataset/train/'\n",
        "target_class_of_image = 'stubby'\n",
        "\n",
        "img_class3 = view_random_image(target_dir = target_directory_for_images,\n",
        "                        target_class = target_class_of_image)"
      ],
      "metadata": {
        "colab": {
          "base_uri": "https://localhost:8080/",
          "height": 463
        },
        "id": "v34S4FYKoaX-",
        "outputId": "cd7fa335-69bd-4d68-fb76-e1ec8ba63b38"
      },
      "execution_count": null,
      "outputs": [
        {
          "output_type": "stream",
          "name": "stdout",
          "text": [
            "['281.png']\n",
            "Image shape: (250, 250)\n"
          ]
        },
        {
          "output_type": "display_data",
          "data": {
            "text/plain": [
              "<Figure size 640x480 with 1 Axes>"
            ],
            "image/png": "[encoded data removed]"
          },
          "metadata": {}
        }
      ]
    },
    {
      "cell_type": "code",
      "source": [
        "# Viewing random Thin spine image\n",
        "\n",
        "target_directory_for_images = '/content/gdrive/MyDrive/Colab Notebooks/Spine_Dataset/train/'\n",
        "target_class_of_image = 'thin'\n",
        "\n",
        "img_class4 = view_random_image(target_dir = target_directory_for_images,\n",
        "                        target_class = target_class_of_image)"
      ],
      "metadata": {
        "colab": {
          "base_uri": "https://localhost:8080/",
          "height": 463
        },
        "id": "Z1_TajUBog7M",
        "outputId": "0b711a4f-e344-473d-fb78-c8250e76599a"
      },
      "execution_count": null,
      "outputs": [
        {
          "output_type": "stream",
          "name": "stdout",
          "text": [
            "['414.png']\n",
            "Image shape: (250, 250)\n"
          ]
        },
        {
          "output_type": "display_data",
          "data": {
            "text/plain": [
              "<Figure size 640x480 with 1 Axes>"
            ],
            "image/png": "[encoded data removed]"
          },
          "metadata": {}
        }
      ]
    },
    {
      "cell_type": "code",
      "source": [
        "img_class1.shape, img_class2.shape, img_class3.shape, img_class4.shape,"
      ],
      "metadata": {
        "colab": {
          "base_uri": "https://localhost:8080/"
        },
        "id": "VcsIVr2YoorF",
        "outputId": "a47b9998-2187-4c49-ab45-40a18811b4a0"
      },
      "execution_count": null,
      "outputs": [
        {
          "output_type": "execute_result",
          "data": {
            "text/plain": [
              "((692, 1177, 4), (250, 250), (250, 250), (250, 250))"
            ]
          },
          "metadata": {},
          "execution_count": 20
        }
      ]
    },
    {
      "cell_type": "markdown",
      "source": [
        "### **Normalizing our data according to the mean dimension of the images present in the training folder**"
      ],
      "metadata": {
        "id": "bDZfHPZspSz-"
      }
    },
    {
      "cell_type": "code",
      "source": [
        "## Setting training, validation and testing directories\n",
        "\n",
        "train_path = '/content/gdrive/MyDrive/Colab Notebooks/Spine_Dataset/train/'\n",
        "val_path = '/content/gdrive/MyDrive/Colab Notebooks/Spine_Dataset/val/'"
      ],
      "metadata": {
        "id": "2YsXkuEQpSTn"
      },
      "execution_count": null,
      "outputs": []
    },
    {
      "cell_type": "code",
      "source": [
        "class_names,class_names[0], type(class_names[0])"
      ],
      "metadata": {
        "colab": {
          "base_uri": "https://localhost:8080/"
        },
        "id": "YUhLzMIzpcPl",
        "outputId": "f02d4368-d4d6-4539-f2b1-b13473b46167"
      },
      "execution_count": null,
      "outputs": [
        {
          "output_type": "execute_result",
          "data": {
            "text/plain": [
              "(array(['filopodia', 'mushroom', 'stubby', 'thin'], dtype='<U9'),\n",
              " 'filopodia',\n",
              " numpy.str_)"
            ]
          },
          "metadata": {},
          "execution_count": 22
        }
      ]
    },
    {
      "cell_type": "markdown",
      "source": [
        "#### **Getting the mean dimension of the images to rescale them**"
      ],
      "metadata": {
        "id": "CO8e9iAfpmss"
      }
    },
    {
      "cell_type": "code",
      "source": [
        "dim1 = []\n",
        "dim2 = []\n",
        "for image_filename in os.listdir(train_path+class_names[2]):\n",
        "\n",
        "    if(image_filename.split('.')[1] == 'png'):\n",
        "      img = mpimg.imread(train_path+class_names[2] +'/'+image_filename)\n",
        "      d1,d2 = img.shape\n",
        "      dim1.append(d1)\n",
        "      dim2.append(d2)\n",
        "\n",
        "\n",
        "np.mean(dim1),np.mean(dim2)"
      ],
      "metadata": {
        "colab": {
          "base_uri": "https://localhost:8080/"
        },
        "id": "rut38XJmpklt",
        "outputId": "6f19570e-b888-47c5-c6dc-6ead6df95311"
      },
      "execution_count": null,
      "outputs": [
        {
          "output_type": "execute_result",
          "data": {
            "text/plain": [
              "(250.0, 250.0)"
            ]
          },
          "metadata": {},
          "execution_count": 23
        }
      ]
    },
    {
      "cell_type": "code",
      "source": [
        "# Visualizing the mean dimension for all the images in the train set\n",
        "\n",
        "sns.jointplot(x=dim1, y=dim2)"
      ],
      "metadata": {
        "colab": {
          "base_uri": "https://localhost:8080/",
          "height": 624
        },
        "id": "0ngLKXGrqBqF",
        "outputId": "463493b6-fa9e-4ea5-cfb0-7b1e7c172c40"
      },
      "execution_count": null,
      "outputs": [
        {
          "output_type": "execute_result",
          "data": {
            "text/plain": [
              "<seaborn.axisgrid.JointGrid at 0x7bdd10b19120>"
            ]
          },
          "metadata": {},
          "execution_count": 24
        },
        {
          "output_type": "display_data",
          "data": {
            "text/plain": [
              "<Figure size 600x600 with 3 Axes>"
            ],
            "image/png": "[encoded data removed]"
          },
          "metadata": {}
        }
      ]
    },
    {
      "cell_type": "markdown",
      "source": [
        "## **Augmenting images and compiling the model**"
      ],
      "metadata": {
        "id": "Fpa_JyA2qxRr"
      }
    },
    {
      "cell_type": "code",
      "source": [
        "import tensorflow\n",
        "from tensorflow.keras.optimizers import SGD, Adam\n",
        "from tensorflow.keras.layers import Input, Dense, Flatten, Conv2D, MaxPooling2D, BatchNormalization ,Dropout\n",
        "from tensorflow.keras.models import Sequential\n",
        "from tensorflow.keras.callbacks import Callback\n",
        "from tensorflow.keras.preprocessing.image import ImageDataGenerator"
      ],
      "metadata": {
        "id": "805vbNDAqwvT"
      },
      "execution_count": null,
      "outputs": []
    },
    {
      "cell_type": "code",
      "source": [
        "image_size = (250,250)\n",
        "\n",
        "datagen = ImageDataGenerator(\n",
        "    rotation_range=20,\n",
        "    width_shift_range=0.10, # Shift the pic width by a max of 5%\n",
        "    height_shift_range=0.10, # Shift the pic height by a max of 5%\n",
        "    rescale=1/255, # Rescale the image by normalzing it.\n",
        "    shear_range=0.1, # Shear means cutting away part of the image (max 10%)\n",
        "    zoom_range=0.1, # Zoom in by 10% max\n",
        "    horizontal_flip=True, # Allow horizontal flipping\n",
        "    fill_mode='nearest' # Fill in missing pixels with the nearest filled value\n",
        ")\n",
        "\n",
        "train_gen = datagen.flow_from_directory(\n",
        "    train_path,\n",
        "    target_size=image_size,\n",
        "    batch_size=32,\n",
        "    color_mode='grayscale',\n",
        "    class_mode='categorical'\n",
        ")\n",
        "\n",
        "validation_gen = datagen.flow_from_directory(\n",
        "    val_path,\n",
        "    target_size=image_size,\n",
        "    batch_size=32,\n",
        "    color_mode='grayscale',\n",
        "    class_mode='categorical',\n",
        "    shuffle=False,\n",
        ")"
      ],
      "metadata": {
        "colab": {
          "base_uri": "https://localhost:8080/"
        },
        "id": "8vpgL4FDq4nD",
        "outputId": "4d1fc870-7e21-416d-f89c-b4baaf8bd915"
      },
      "execution_count": null,
      "outputs": [
        {
          "output_type": "stream",
          "name": "stdout",
          "text": [
            "Found 443 images belonging to 4 classes.\n",
            "Found 112 images belonging to 4 classes.\n"
          ]
        }
      ]
    },
    {
      "cell_type": "markdown",
      "source": [
        "#### **Labels for the classes (Which class indicates which index)**"
      ],
      "metadata": {
        "id": "7SEhv-5Qrcs0"
      }
    },
    {
      "cell_type": "code",
      "source": [
        "train_gen.class_indices"
      ],
      "metadata": {
        "colab": {
          "base_uri": "https://localhost:8080/"
        },
        "id": "FCliOsIArZiN",
        "outputId": "d2a37c33-6853-49c7-ab5a-4042ef474b39"
      },
      "execution_count": null,
      "outputs": [
        {
          "output_type": "execute_result",
          "data": {
            "text/plain": [
              "{'filopodia': 0, 'mushroom': 1, 'stubby': 2, 'thin': 3}"
            ]
          },
          "metadata": {},
          "execution_count": 27
        }
      ]
    },
    {
      "cell_type": "code",
      "source": [
        "validation_gen.class_indices"
      ],
      "metadata": {
        "colab": {
          "base_uri": "https://localhost:8080/"
        },
        "id": "_Ur15xw9rols",
        "outputId": "43b3b976-abfc-4b36-df1a-f4b31b1c4252"
      },
      "execution_count": null,
      "outputs": [
        {
          "output_type": "execute_result",
          "data": {
            "text/plain": [
              "{'filopodia': 0, 'mushroom': 1, 'stubby': 2, 'thin': 3}"
            ]
          },
          "metadata": {},
          "execution_count": 28
        }
      ]
    },
    {
      "cell_type": "markdown",
      "source": [
        "## **Defining the CNN model with keras functional API**"
      ],
      "metadata": {
        "id": "uCt7dWWUrsb7"
      }
    },
    {
      "cell_type": "code",
      "source": [
        "from tensorflow.keras.models import Model"
      ],
      "metadata": {
        "id": "G8pjpE4QrpmU"
      },
      "execution_count": null,
      "outputs": []
    },
    {
      "cell_type": "code",
      "source": [
        "## Implementing distributed training with multiple GPUs for faster training\n",
        "\n",
        "mirrored_strategy = tf.distribute.MirroredStrategy()\n",
        "\n",
        "with mirrored_strategy.scope():\n",
        "\n",
        "  i = Input(shape=image_size+(1,))\n",
        "\n",
        "  x = Conv2D(32, kernel_size=(3,3), activation='relu')(i)\n",
        "  x = MaxPooling2D(pool_size=(2,2))(x)\n",
        "\n",
        "  x = Conv2D(64, kernel_size=(3,3), activation='relu')(x)\n",
        "  x = MaxPooling2D(pool_size=(2,2))(x)\n",
        "\n",
        "  x = Conv2D(64, kernel_size=(3,3), activation='relu')(x)\n",
        "  x = MaxPooling2D(pool_size=(2,2))(x)\n",
        "\n",
        "  x = Flatten()(x)\n",
        "\n",
        "  x = Dense(128, activation = 'relu')(x)\n",
        "  x = Dropout(0.5)(x)\n",
        "\n",
        "  x = Dense(len(class_names), activation='softmax')(x)\n",
        "\n",
        "  model = Model(i,x)\n"
      ],
      "metadata": {
        "id": "Bmgt_GaXruqb"
      },
      "execution_count": null,
      "outputs": []
    },
    {
      "cell_type": "code",
      "source": [
        "# Compiling and Summarizing the Model\n",
        "\n",
        "model.compile(optimizer = 'adam',\n",
        "              loss = 'categorical_crossentropy',\n",
        "              metrics=['accuracy'])\n",
        "\n",
        "model.summary()"
      ],
      "metadata": {
        "colab": {
          "base_uri": "https://localhost:8080/"
        },
        "id": "hdt6hRGOsXE6",
        "outputId": "a492f27b-a0b3-49ab-9f3a-b4b7ff4dc376"
      },
      "execution_count": null,
      "outputs": [
        {
          "output_type": "stream",
          "name": "stdout",
          "text": [
            "Model: \"model\"\n",
            "_________________________________________________________________\n",
            " Layer (type)                Output Shape              Param #   \n",
            "=================================================================\n",
            " input_1 (InputLayer)        [(None, 250, 250, 1)]     0         \n",
            "                                                                 \n",
            " conv2d (Conv2D)             (None, 248, 248, 32)      320       \n",
            "                                                                 \n",
            " max_pooling2d (MaxPooling2  (None, 124, 124, 32)      0         \n",
            " D)                                                              \n",
            "                                                                 \n",
            " conv2d_1 (Conv2D)           (None, 122, 122, 64)      18496     \n",
            "                                                                 \n",
            " max_pooling2d_1 (MaxPoolin  (None, 61, 61, 64)        0         \n",
            " g2D)                                                            \n",
            "                                                                 \n",
            " conv2d_2 (Conv2D)           (None, 59, 59, 64)        36928     \n",
            "                                                                 \n",
            " max_pooling2d_2 (MaxPoolin  (None, 29, 29, 64)        0         \n",
            " g2D)                                                            \n",
            "                                                                 \n",
            " flatten (Flatten)           (None, 53824)             0         \n",
            "                                                                 \n",
            " dense (Dense)               (None, 128)               6889600   \n",
            "                                                                 \n",
            " dropout (Dropout)           (None, 128)               0         \n",
            "                                                                 \n",
            " dense_1 (Dense)             (None, 4)                 516       \n",
            "                                                                 \n",
            "=================================================================\n",
            "Total params: 6945860 (26.50 MB)\n",
            "Trainable params: 6945860 (26.50 MB)\n",
            "Non-trainable params: 0 (0.00 Byte)\n",
            "_________________________________________________________________\n"
          ]
        }
      ]
    },
    {
      "cell_type": "code",
      "source": [
        "## Fitting the model\n",
        "\n",
        "model_history = model.fit(train_gen, epochs=20, validation_data=validation_gen)"
      ],
      "metadata": {
        "colab": {
          "base_uri": "https://localhost:8080/"
        },
        "id": "F932AggwtTIK",
        "outputId": "e6150340-2031-48c9-884b-242f46adc3f7"
      },
      "execution_count": null,
      "outputs": [
        {
          "output_type": "stream",
          "name": "stdout",
          "text": [
            "Epoch 1/20\n",
            "14/14 [==============================] - 120s 8s/step - loss: 1.1143 - accuracy: 0.5350 - val_loss: 0.9420 - val_accuracy: 0.6161\n",
            "Epoch 2/20\n",
            "14/14 [==============================] - 4s 312ms/step - loss: 0.8263 - accuracy: 0.6275 - val_loss: 0.7117 - val_accuracy: 0.7232\n",
            "Epoch 3/20\n",
            "14/14 [==============================] - 4s 305ms/step - loss: 0.7924 - accuracy: 0.6569 - val_loss: 0.7196 - val_accuracy: 0.6786\n",
            "Epoch 4/20\n",
            "14/14 [==============================] - 6s 426ms/step - loss: 0.7103 - accuracy: 0.7246 - val_loss: 0.6638 - val_accuracy: 0.7232\n",
            "Epoch 5/20\n",
            "14/14 [==============================] - 4s 317ms/step - loss: 0.6847 - accuracy: 0.7088 - val_loss: 0.5345 - val_accuracy: 0.7589\n",
            "Epoch 6/20\n",
            "14/14 [==============================] - 7s 499ms/step - loss: 0.6614 - accuracy: 0.7178 - val_loss: 0.6250 - val_accuracy: 0.7232\n",
            "Epoch 7/20\n",
            "14/14 [==============================] - 4s 326ms/step - loss: 0.6226 - accuracy: 0.7585 - val_loss: 0.4708 - val_accuracy: 0.7857\n",
            "Epoch 8/20\n",
            "14/14 [==============================] - 6s 450ms/step - loss: 0.5704 - accuracy: 0.7517 - val_loss: 0.5898 - val_accuracy: 0.7679\n",
            "Epoch 9/20\n",
            "14/14 [==============================] - 4s 311ms/step - loss: 0.5617 - accuracy: 0.7427 - val_loss: 0.4615 - val_accuracy: 0.8482\n",
            "Epoch 10/20\n",
            "14/14 [==============================] - 4s 315ms/step - loss: 0.5626 - accuracy: 0.7788 - val_loss: 0.3801 - val_accuracy: 0.8482\n",
            "Epoch 11/20\n",
            "14/14 [==============================] - 6s 421ms/step - loss: 0.5234 - accuracy: 0.8014 - val_loss: 0.4714 - val_accuracy: 0.7857\n",
            "Epoch 12/20\n",
            "14/14 [==============================] - 4s 309ms/step - loss: 0.4628 - accuracy: 0.8194 - val_loss: 0.4627 - val_accuracy: 0.8214\n",
            "Epoch 13/20\n",
            "14/14 [==============================] - 4s 315ms/step - loss: 0.4803 - accuracy: 0.8036 - val_loss: 0.3998 - val_accuracy: 0.8571\n",
            "Epoch 14/20\n",
            "14/14 [==============================] - 6s 420ms/step - loss: 0.4799 - accuracy: 0.8149 - val_loss: 0.4064 - val_accuracy: 0.8214\n",
            "Epoch 15/20\n",
            "14/14 [==============================] - 4s 317ms/step - loss: 0.4552 - accuracy: 0.8239 - val_loss: 0.4228 - val_accuracy: 0.8214\n",
            "Epoch 16/20\n",
            "14/14 [==============================] - 4s 312ms/step - loss: 0.4652 - accuracy: 0.8217 - val_loss: 0.3062 - val_accuracy: 0.8571\n",
            "Epoch 17/20\n",
            "14/14 [==============================] - 6s 423ms/step - loss: 0.5300 - accuracy: 0.7743 - val_loss: 0.3713 - val_accuracy: 0.8482\n",
            "Epoch 18/20\n",
            "14/14 [==============================] - 4s 311ms/step - loss: 0.5108 - accuracy: 0.7968 - val_loss: 0.3718 - val_accuracy: 0.8750\n",
            "Epoch 19/20\n",
            "14/14 [==============================] - 4s 319ms/step - loss: 0.4212 - accuracy: 0.8217 - val_loss: 0.3868 - val_accuracy: 0.8482\n",
            "Epoch 20/20\n",
            "14/14 [==============================] - 6s 407ms/step - loss: 0.4730 - accuracy: 0.8330 - val_loss: 0.3791 - val_accuracy: 0.8214\n"
          ]
        }
      ]
    },
    {
      "cell_type": "code",
      "source": [
        "#Plotting loss per iteration\n",
        "\n",
        "plt.plot(model_history.history['loss'],label='loss')\n",
        "plt.plot(model_history.history['val_loss'], label = 'validation_loss')\n",
        "plt.legend()"
      ],
      "metadata": {
        "colab": {
          "base_uri": "https://localhost:8080/",
          "height": 447
        },
        "id": "-XVPXotZwUU4",
        "outputId": "3547f458-b0c5-4e31-d14e-7232a5b65588"
      },
      "execution_count": null,
      "outputs": [
        {
          "output_type": "execute_result",
          "data": {
            "text/plain": [
              "<matplotlib.legend.Legend at 0x7bdc791a87c0>"
            ]
          },
          "metadata": {},
          "execution_count": 33
        },
        {
          "output_type": "display_data",
          "data": {
            "text/plain": [
              "<Figure size 640x480 with 1 Axes>"
            ],
            "image/png": "[encoded data removed]"
          },
          "metadata": {}
        }
      ]
    },
    {
      "cell_type": "code",
      "source": [
        "#Plotting accuracy per iteration\n",
        "\n",
        "plt.plot(model_history.history['accuracy'],label='accuracy')\n",
        "plt.plot(model_history.history['val_accuracy'], label = 'validation_accuracy')\n",
        "plt.legend()"
      ],
      "metadata": {
        "colab": {
          "base_uri": "https://localhost:8080/",
          "height": 447
        },
        "id": "HnEOfI0FwY0R",
        "outputId": "77821771-4ad6-4ade-c517-fc21daf58e5d"
      },
      "execution_count": null,
      "outputs": [
        {
          "output_type": "execute_result",
          "data": {
            "text/plain": [
              "<matplotlib.legend.Legend at 0x7bdc7d5f7130>"
            ]
          },
          "metadata": {},
          "execution_count": 34
        },
        {
          "output_type": "display_data",
          "data": {
            "text/plain": [
              "<Figure size 640x480 with 1 Axes>"
            ],
            "image/png": "[encoded data removed]"
          },
          "metadata": {}
        }
      ]
    },
    {
      "cell_type": "code",
      "source": [
        "## Evaluating our model\n",
        "\n",
        "print(model.evaluate(validation_gen))"
      ],
      "metadata": {
        "colab": {
          "base_uri": "https://localhost:8080/"
        },
        "id": "rm0qqf98wa6I",
        "outputId": "b66f162b-5e42-4bd0-9dd3-747028bee5d2"
      },
      "execution_count": null,
      "outputs": [
        {
          "output_type": "stream",
          "name": "stdout",
          "text": [
            "4/4 [==============================] - 1s 180ms/step - loss: 0.3656 - accuracy: 0.8661\n",
            "[0.36564040184020996, 0.8660714030265808]\n"
          ]
        }
      ]
    },
    {
      "cell_type": "markdown",
      "source": [
        "## **Testing and predicting custom images**"
      ],
      "metadata": {
        "id": "qBoCtRtGwsda"
      }
    },
    {
      "cell_type": "code",
      "source": [
        "from google.colab import files\n",
        "from tensorflow.keras.preprocessing import image"
      ],
      "metadata": {
        "id": "KCpkoinBwf1o"
      },
      "execution_count": null,
      "outputs": []
    },
    {
      "cell_type": "code",
      "source": [
        "plt.figure(figsize=(10, 10))\n",
        "\n",
        "uploaded=files.upload()\n"
      ],
      "metadata": {
        "colab": {
          "base_uri": "https://localhost:8080/",
          "height": 90
        },
        "id": "clQCAi2H6BMA",
        "outputId": "2996e003-f456-475b-ddb5-3354edf44ef7"
      },
      "execution_count": null,
      "outputs": [
        {
          "output_type": "display_data",
          "data": {
            "text/plain": [
              "<IPython.core.display.HTML object>"
            ],
            "text/html": [
              "\n",
              "     <input type=\"file\" id=\"files-0bf07ce0-aaff-4946-baa2-0789d109a79f\" name=\"files[]\" multiple disabled\n",
              "        style=\"border:none\" />\n",
              "     <output id=\"result-0bf07ce0-aaff-4946-baa2-0789d109a79f\">\n",
              "      Upload widget is only available when the cell has been executed in the\n",
              "      current browser session. Please rerun this cell to enable.\n",
              "      </output>\n",
              "      <script>// Copyright 2017 Google LLC\n",
              "//\n",
              "// Licensed under the Apache License, Version 2.0 (the \"License\");\n",
              "// you may not use this file except in compliance with the License.\n",
              "// You may obtain a copy of the License at\n",
              "//\n",
              "//      http://www.apache.org/licenses/LICENSE-2.0\n",
              "//\n",
              "// Unless required by applicable law or agreed to in writing, software\n",
              "// distributed under the License is distributed on an \"AS IS\" BASIS,\n",
              "// WITHOUT WARRANTIES OR CONDITIONS OF ANY KIND, either express or implied.\n",
              "// See the License for the specific language governing permissions and\n",
              "// limitations under the License.\n",
              "\n",
              "/**\n",
              " * @fileoverview Helpers for google.colab Python module.\n",
              " */\n",
              "(function(scope) {\n",
              "function span(text, styleAttributes = {}) {\n",
              "  const element = document.createElement('span');\n",
              "  element.textContent = text;\n",
              "  for (const key of Object.keys(styleAttributes)) {\n",
              "    element.style[key] = styleAttributes[key];\n",
              "  }\n",
              "  return element;\n",
              "}\n",
              "\n",
              "// Max number of bytes which will be uploaded at a time.\n",
              "const MAX_PAYLOAD_SIZE = 100 * 1024;\n",
              "\n",
              "function _uploadFiles(inputId, outputId) {\n",
              "  const steps = uploadFilesStep(inputId, outputId);\n",
              "  const outputElement = document.getElementById(outputId);\n",
              "  // Cache steps on the outputElement to make it available for the next call\n",
              "  // to uploadFilesContinue from Python.\n",
              "  outputElement.steps = steps;\n",
              "\n",
              "  return _uploadFilesContinue(outputId);\n",
              "}\n",
              "\n",
              "// This is roughly an async generator (not supported in the browser yet),\n",
              "// where there are multiple asynchronous steps and the Python side is going\n",
              "// to poll for completion of each step.\n",
              "// This uses a Promise to block the python side on completion of each step,\n",
              "// then passes the result of the previous step as the input to the next step.\n",
              "function _uploadFilesContinue(outputId) {\n",
              "  const outputElement = document.getElementById(outputId);\n",
              "  const steps = outputElement.steps;\n",
              "\n",
              "  const next = steps.next(outputElement.lastPromiseValue);\n",
              "  return Promise.resolve(next.value.promise).then((value) => {\n",
              "    // Cache the last promise value to make it available to the next\n",
              "    // step of the generator.\n",
              "    outputElement.lastPromiseValue = value;\n",
              "    return next.value.response;\n",
              "  });\n",
              "}\n",
              "\n",
              "/**\n",
              " * Generator function which is called between each async step of the upload\n",
              " * process.\n",
              " * @param {string} inputId Element ID of the input file picker element.\n",
              " * @param {string} outputId Element ID of the output display.\n",
              " * @return {!Iterable<!Object>} Iterable of next steps.\n",
              " */\n",
              "function* uploadFilesStep(inputId, outputId) {\n",
              "  const inputElement = document.getElementById(inputId);\n",
              "  inputElement.disabled = false;\n",
              "\n",
              "  const outputElement = document.getElementById(outputId);\n",
              "  outputElement.innerHTML = '';\n",
              "\n",
              "  const pickedPromise = new Promise((resolve) => {\n",
              "    inputElement.addEventListener('change', (e) => {\n",
              "      resolve(e.target.files);\n",
              "    });\n",
              "  });\n",
              "\n",
              "  const cancel = document.createElement('button');\n",
              "  inputElement.parentElement.appendChild(cancel);\n",
              "  cancel.textContent = 'Cancel upload';\n",
              "  const cancelPromise = new Promise((resolve) => {\n",
              "    cancel.onclick = () => {\n",
              "      resolve(null);\n",
              "    };\n",
              "  });\n",
              "\n",
              "  // Wait for the user to pick the files.\n",
              "  const files = yield {\n",
              "    promise: Promise.race([pickedPromise, cancelPromise]),\n",
              "    response: {\n",
              "      action: 'starting',\n",
              "    }\n",
              "  };\n",
              "\n",
              "  cancel.remove();\n",
              "\n",
              "  // Disable the input element since further picks are not allowed.\n",
              "  inputElement.disabled = true;\n",
              "\n",
              "  if (!files) {\n",
              "    return {\n",
              "      response: {\n",
              "        action: 'complete',\n",
              "      }\n",
              "    };\n",
              "  }\n",
              "\n",
              "  for (const file of files) {\n",
              "    const li = document.createElement('li');\n",
              "    li.append(span(file.name, {fontWeight: 'bold'}));\n",
              "    li.append(span(\n",
              "        `(${file.type || 'n/a'}) - ${file.size} bytes, ` +\n",
              "        `last modified: ${\n",
              "            file.lastModifiedDate ? file.lastModifiedDate.toLocaleDateString() :\n",
              "                                    'n/a'} - `));\n",
              "    const percent = span('0% done');\n",
              "    li.appendChild(percent);\n",
              "\n",
              "    outputElement.appendChild(li);\n",
              "\n",
              "    const fileDataPromise = new Promise((resolve) => {\n",
              "      const reader = new FileReader();\n",
              "      reader.onload = (e) => {\n",
              "        resolve(e.target.result);\n",
              "      };\n",
              "      reader.readAsArrayBuffer(file);\n",
              "    });\n",
              "    // Wait for the data to be ready.\n",
              "    let fileData = yield {\n",
              "      promise: fileDataPromise,\n",
              "      response: {\n",
              "        action: 'continue',\n",
              "      }\n",
              "    };\n",
              "\n",
              "    // Use a chunked sending to avoid message size limits. See b/62115660.\n",
              "    let position = 0;\n",
              "    do {\n",
              "      const length = Math.min(fileData.byteLength - position, MAX_PAYLOAD_SIZE);\n",
              "      const chunk = new Uint8Array(fileData, position, length);\n",
              "      position += length;\n",
              "\n",
              "      const base64 = btoa(String.fromCharCode.apply(null, chunk));\n",
              "      yield {\n",
              "        response: {\n",
              "          action: 'append',\n",
              "          file: file.name,\n",
              "          data: base64,\n",
              "        },\n",
              "      };\n",
              "\n",
              "      let percentDone = fileData.byteLength === 0 ?\n",
              "          100 :\n",
              "          Math.round((position / fileData.byteLength) * 100);\n",
              "      percent.textContent = `${percentDone}% done`;\n",
              "\n",
              "    } while (position < fileData.byteLength);\n",
              "  }\n",
              "\n",
              "  // All done.\n",
              "  yield {\n",
              "    response: {\n",
              "      action: 'complete',\n",
              "    }\n",
              "  };\n",
              "}\n",
              "\n",
              "scope.google = scope.google || {};\n",
              "scope.google.colab = scope.google.colab || {};\n",
              "scope.google.colab._files = {\n",
              "  _uploadFiles,\n",
              "  _uploadFilesContinue,\n",
              "};\n",
              "})(self);\n",
              "</script> "
            ]
          },
          "metadata": {}
        },
        {
          "output_type": "stream",
          "name": "stdout",
          "text": [
            "Saving filopodiaimage037.png to filopodiaimage037.png\n"
          ]
        },
        {
          "output_type": "display_data",
          "data": {
            "text/plain": [
              "<Figure size 1000x1000 with 0 Axes>"
            ]
          },
          "metadata": {}
        }
      ]
    },
    {
      "cell_type": "code",
      "source": [
        "i=1\n",
        "\n",
        "for fn in uploaded.keys():\n",
        "\n",
        "  # predicting images\n",
        "\n",
        "  path='/content/gdrive/MyDrive/Colab Notebooks/Spine_Dataset/' + fn\n",
        "  img=tf.keras.utils.load_img(path, color_mode='grayscale',target_size=(250, 250))\n",
        "\n",
        "  plt.subplot(1,2,i)\n",
        "\n",
        "  plt.imshow(img,cmap='gray',label=fn)\n",
        "  plt.axis('off')\n",
        "\n",
        "  i+=1\n",
        "\n",
        "  x=image.img_to_array(img)\n",
        "  print(f\"The shape is {x.shape}\")\n",
        "  x=np.expand_dims(x, axis=0)\n",
        "  images = np.vstack([x])\n",
        "\n",
        "  classes = model.predict(images,batch_size=16)\n",
        "  #print(classes)\n",
        "\n",
        "values = classes[0].tolist()\n",
        "ind = values.index(max(values)) + 1\n",
        "if(ind==1):\n",
        "  print('The uploaded image of spine belongs to the class FILOPODIA')\n",
        "elif(ind==2):\n",
        "  print('The uploaded image of spine belongs to the class MUSHROOM')\n",
        "elif(ind==3):\n",
        "  print('The uploaded image of spine belongs to the class STUBBY')\n",
        "elif(ind==4):\n",
        "  print('The uploaded image of spine belongs to the class THIN')"
      ],
      "metadata": {
        "colab": {
          "base_uri": "https://localhost:8080/",
          "height": 314
        },
        "id": "eq2sAtz46b8J",
        "outputId": "38f32712-b2ab-4f23-9c04-c12dc3ff4329"
      },
      "execution_count": null,
      "outputs": [
        {
          "output_type": "stream",
          "name": "stdout",
          "text": [
            "The shape is (250, 250, 1)\n",
            "1/1 [==============================] - 0s 74ms/step\n",
            "The uploaded image of spine belongs to the class FILOPODIA\n"
          ]
        },
        {
          "output_type": "display_data",
          "data": {
            "text/plain": [
              "<Figure size 640x480 with 1 Axes>"
            ],
            "image/png": "[encoded data removed]"
          },
          "metadata": {}
        }
      ]
    },
    {
      "cell_type": "code",
      "source": [
        "model.save(filepath=\"/content/gdrive/MyDrive/Colab Notebooks/Spine_Dataset/Spine_Categorizer.keras\", overwrite=True, save_format=\"keras\")\n",
        "print('Model Saved')"
      ],
      "metadata": {
        "colab": {
          "base_uri": "https://localhost:8080/"
        },
        "id": "Sdo-g1hicfLh",
        "outputId": "f776168b-fb85-4a2e-fe28-2d0b75c28108"
      },
      "execution_count": null,
      "outputs": [
        {
          "output_type": "stream",
          "name": "stdout",
          "text": [
            "Model Saved\n"
          ]
        }
      ]
    }
  ]
}